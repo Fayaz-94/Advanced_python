{
 "cells": [
  {
   "cell_type": "code",
   "execution_count": null,
   "metadata": {},
   "outputs": [],
   "source": [
    "introduction to for looping statements:"
   ]
  },
  {
   "cell_type": "code",
   "execution_count": null,
   "metadata": {},
   "outputs": [],
   "source": []
  },
  {
   "cell_type": "code",
   "execution_count": 1,
   "metadata": {},
   "outputs": [],
   "source": [
    "my_students = ['devi','naresh','satya','neha','vijaylaxmi','malveeca','adil','amit', 'mahesh']"
   ]
  },
  {
   "cell_type": "code",
   "execution_count": null,
   "metadata": {},
   "outputs": [],
   "source": []
  },
  {
   "cell_type": "code",
   "execution_count": 3,
   "metadata": {},
   "outputs": [
    {
     "ename": "IndentationError",
     "evalue": "expected an indented block (<ipython-input-3-d34cdbd3c0c3>, line 8)",
     "output_type": "error",
     "traceback": [
      "\u001b[0;36m  File \u001b[0;32m\"<ipython-input-3-d34cdbd3c0c3>\"\u001b[0;36m, line \u001b[0;32m8\u001b[0m\n\u001b[0;31m    print(tempvar)\u001b[0m\n\u001b[0m        ^\u001b[0m\n\u001b[0;31mIndentationError\u001b[0m\u001b[0;31m:\u001b[0m expected an indented block\n"
     ]
    }
   ],
   "source": [
    "#Genral syntax:\n",
    "    \n",
    "#tempvar (anyname) in my-students:\n",
    "    #print(tempvar) # indetation\n",
    "\n",
    "    \n",
    "for tempvar in my_students:\n",
    "    print(tempvar)"
   ]
  },
  {
   "cell_type": "code",
   "execution_count": null,
   "metadata": {},
   "outputs": [],
   "source": []
  },
  {
   "cell_type": "code",
   "execution_count": 4,
   "metadata": {},
   "outputs": [
    {
     "name": "stdout",
     "output_type": "stream",
     "text": [
      "devi\n",
      "naresh\n",
      "satya\n",
      "neha\n",
      "vijaylaxmi\n",
      "malveeca\n",
      "adil\n",
      "amit\n",
      "mahesh\n"
     ]
    }
   ],
   "source": [
    "for student in my_students:\n",
    "    print(student)"
   ]
  },
  {
   "cell_type": "code",
   "execution_count": null,
   "metadata": {},
   "outputs": [],
   "source": []
  },
  {
   "cell_type": "code",
   "execution_count": 5,
   "metadata": {},
   "outputs": [
    {
     "name": "stdout",
     "output_type": "stream",
     "text": [
      "devi\n",
      "naresh\n",
      "satya\n",
      "neha\n",
      "vijaylaxmi\n",
      "malveeca\n",
      "adil\n",
      "amit\n",
      "mahesh\n"
     ]
    }
   ],
   "source": [
    "for x in my_students:\n",
    "    print(x)"
   ]
  },
  {
   "cell_type": "code",
   "execution_count": null,
   "metadata": {},
   "outputs": [],
   "source": []
  },
  {
   "cell_type": "code",
   "execution_count": 6,
   "metadata": {},
   "outputs": [
    {
     "name": "stdout",
     "output_type": "stream",
     "text": [
      "Keep up the good work, Devi\n",
      "Keep up the good work, Naresh\n",
      "Keep up the good work, Satya\n",
      "Keep up the good work, Neha\n",
      "Keep up the good work, Vijaylaxmi\n",
      "Keep up the good work, Malveeca\n",
      "Keep up the good work, Adil\n",
      "Keep up the good work, Amit\n",
      "Keep up the good work, Mahesh\n"
     ]
    }
   ],
   "source": [
    "for x in my_students:\n",
    "    print(f\"Keep up the good work, {x.title()}\")"
   ]
  },
  {
   "cell_type": "code",
   "execution_count": null,
   "metadata": {},
   "outputs": [],
   "source": [
    "#enhancment of the code."
   ]
  },
  {
   "cell_type": "code",
   "execution_count": 7,
   "metadata": {},
   "outputs": [
    {
     "name": "stdout",
     "output_type": "stream",
     "text": [
      "Keep up the good work, Devi\n",
      "looking forward to receive your practise for today as well, Devi\n",
      "Keep up the good work, Naresh\n",
      "looking forward to receive your practise for today as well, Naresh\n",
      "Keep up the good work, Satya\n",
      "looking forward to receive your practise for today as well, Satya\n",
      "Keep up the good work, Neha\n",
      "looking forward to receive your practise for today as well, Neha\n",
      "Keep up the good work, Vijaylaxmi\n",
      "looking forward to receive your practise for today as well, Vijaylaxmi\n",
      "Keep up the good work, Malveeca\n",
      "looking forward to receive your practise for today as well, Malveeca\n",
      "Keep up the good work, Adil\n",
      "looking forward to receive your practise for today as well, Adil\n",
      "Keep up the good work, Amit\n",
      "looking forward to receive your practise for today as well, Amit\n",
      "Keep up the good work, Mahesh\n",
      "looking forward to receive your practise for today as well, Mahesh\n"
     ]
    }
   ],
   "source": [
    "for x in my_students:\n",
    "    print(f\"Keep up the good work, {x.title()}\")\n",
    "    print(f\"looking forward to receive your practise for today as well, {x.title()}\")"
   ]
  },
  {
   "cell_type": "code",
   "execution_count": null,
   "metadata": {},
   "outputs": [],
   "source": [
    "#futher enhancement of the code:"
   ]
  },
  {
   "cell_type": "code",
   "execution_count": 8,
   "metadata": {},
   "outputs": [
    {
     "name": "stdout",
     "output_type": "stream",
     "text": [
      "Keep up the good work, Devi\n",
      "looking forward to receive your practise for today as well, Devi.\n",
      "\n",
      "Keep up the good work, Naresh\n",
      "looking forward to receive your practise for today as well, Naresh.\n",
      "\n",
      "Keep up the good work, Satya\n",
      "looking forward to receive your practise for today as well, Satya.\n",
      "\n",
      "Keep up the good work, Neha\n",
      "looking forward to receive your practise for today as well, Neha.\n",
      "\n",
      "Keep up the good work, Vijaylaxmi\n",
      "looking forward to receive your practise for today as well, Vijaylaxmi.\n",
      "\n",
      "Keep up the good work, Malveeca\n",
      "looking forward to receive your practise for today as well, Malveeca.\n",
      "\n",
      "Keep up the good work, Adil\n",
      "looking forward to receive your practise for today as well, Adil.\n",
      "\n",
      "Keep up the good work, Amit\n",
      "looking forward to receive your practise for today as well, Amit.\n",
      "\n",
      "Keep up the good work, Mahesh\n",
      "looking forward to receive your practise for today as well, Mahesh.\n",
      "\n"
     ]
    }
   ],
   "source": [
    "for x in my_students:\n",
    "    print(f\"Keep up the good work, {x.title()}\")\n",
    "    print(f\"looking forward to receive your practise for today as well, {x.title()}.\\n\")"
   ]
  },
  {
   "cell_type": "code",
   "execution_count": null,
   "metadata": {},
   "outputs": [],
   "source": []
  },
  {
   "cell_type": "code",
   "execution_count": null,
   "metadata": {},
   "outputs": [],
   "source": [
    "introduction to if conditions:"
   ]
  },
  {
   "cell_type": "code",
   "execution_count": null,
   "metadata": {},
   "outputs": [],
   "source": [
    "Rain ----> #occurance of an event:\n",
    "\n",
    "if it is raining outside\n",
    "\n",
    "i will be at home\n",
    "\n",
    "it not :\n",
    "    \n",
    "i can got"
   ]
  },
  {
   "cell_type": "code",
   "execution_count": null,
   "metadata": {},
   "outputs": [],
   "source": []
  },
  {
   "cell_type": "code",
   "execution_count": 9,
   "metadata": {},
   "outputs": [],
   "source": [
    "cars = ['audi','maruti','toyato','benz','bmw']"
   ]
  },
  {
   "cell_type": "code",
   "execution_count": null,
   "metadata": {},
   "outputs": [],
   "source": []
  },
  {
   "cell_type": "code",
   "execution_count": null,
   "metadata": {},
   "outputs": [],
   "source": [
    "req: ----> if we are receving bmw---> i have to print it in  Capital case...\n",
    "    -----> for other brands ----> i have to print in a titlecase..."
   ]
  },
  {
   "cell_type": "code",
   "execution_count": null,
   "metadata": {},
   "outputs": [],
   "source": []
  },
  {
   "cell_type": "code",
   "execution_count": 10,
   "metadata": {},
   "outputs": [
    {
     "name": "stdout",
     "output_type": "stream",
     "text": [
      "Audi\n",
      "Maruti\n",
      "Toyato\n",
      "Benz\n",
      "BMW\n"
     ]
    }
   ],
   "source": [
    "for car in cars: #for loop syntax\n",
    "    if car =='bmw': # equality testing ---->\n",
    "        print(car.upper())\n",
    "    else:\n",
    "        print(car.title())"
   ]
  },
  {
   "cell_type": "code",
   "execution_count": null,
   "metadata": {},
   "outputs": [],
   "source": []
  },
  {
   "cell_type": "code",
   "execution_count": null,
   "metadata": {},
   "outputs": [],
   "source": []
  },
  {
   "cell_type": "code",
   "execution_count": null,
   "metadata": {},
   "outputs": [],
   "source": []
  },
  {
   "cell_type": "code",
   "execution_count": null,
   "metadata": {},
   "outputs": [],
   "source": []
  },
  {
   "cell_type": "code",
   "execution_count": null,
   "metadata": {},
   "outputs": [],
   "source": []
  }
 ],
 "metadata": {
  "kernelspec": {
   "display_name": "Python 3",
   "language": "python",
   "name": "python3"
  },
  "language_info": {
   "codemirror_mode": {
    "name": "ipython",
    "version": 3
   },
   "file_extension": ".py",
   "mimetype": "text/x-python",
   "name": "python",
   "nbconvert_exporter": "python",
   "pygments_lexer": "ipython3",
   "version": "3.7.4"
  }
 },
 "nbformat": 4,
 "nbformat_minor": 2
}
